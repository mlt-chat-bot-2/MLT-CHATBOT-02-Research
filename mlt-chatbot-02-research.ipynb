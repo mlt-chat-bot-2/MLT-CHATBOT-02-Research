{
 "cells": [
  {
   "cell_type": "code",
   "execution_count": 1,
   "id": "ca1c430f",
   "metadata": {
    "_cell_guid": "b1076dfc-b9ad-4769-8c92-a6c4dae69d19",
    "_uuid": "8f2839f25d086af736a60e9eeb907d3b93b6e0e5",
    "execution": {
     "iopub.execute_input": "2022-07-06T08:57:49.801479Z",
     "iopub.status.busy": "2022-07-06T08:57:49.800992Z",
     "iopub.status.idle": "2022-07-06T08:57:49.813783Z",
     "shell.execute_reply": "2022-07-06T08:57:49.812995Z"
    },
    "papermill": {
     "duration": 0.020315,
     "end_time": "2022-07-06T08:57:49.816080",
     "exception": false,
     "start_time": "2022-07-06T08:57:49.795765",
     "status": "completed"
    },
    "tags": []
   },
   "outputs": [],
   "source": [
    "import numpy as np\n",
    "import pandas as pd\n",
    "import os"
   ]
  },
  {
   "cell_type": "code",
   "execution_count": 2,
   "id": "b6392b3c",
   "metadata": {
    "execution": {
     "iopub.execute_input": "2022-07-06T08:57:49.823279Z",
     "iopub.status.busy": "2022-07-06T08:57:49.822862Z",
     "iopub.status.idle": "2022-07-06T08:59:29.252788Z",
     "shell.execute_reply": "2022-07-06T08:59:29.251241Z"
    },
    "papermill": {
     "duration": 99.437219,
     "end_time": "2022-07-06T08:59:29.256256",
     "exception": false,
     "start_time": "2022-07-06T08:57:49.819037",
     "status": "completed"
    },
    "tags": []
   },
   "outputs": [],
   "source": [
    "dialogueText = pd.read_csv(\"../input/chatbotdataset/Ubuntu-dialogue-corpus/dialogueText.csv\")\n",
    "dialogueText_196 = pd.read_csv(\"../input/chatbotdataset/Ubuntu-dialogue-corpus/dialogueText_196.csv\")\n",
    "dialogueText_301 = pd.read_csv(\"../input/chatbotdataset/Ubuntu-dialogue-corpus/dialogueText_301.csv\")"
   ]
  },
  {
   "cell_type": "code",
   "execution_count": 3,
   "id": "2d679ef5",
   "metadata": {
    "execution": {
     "iopub.execute_input": "2022-07-06T08:59:29.264483Z",
     "iopub.status.busy": "2022-07-06T08:59:29.263619Z",
     "iopub.status.idle": "2022-07-06T08:59:29.874186Z",
     "shell.execute_reply": "2022-07-06T08:59:29.873072Z"
    },
    "papermill": {
     "duration": 0.619621,
     "end_time": "2022-07-06T08:59:29.879100",
     "exception": false,
     "start_time": "2022-07-06T08:59:29.259479",
     "status": "completed"
    },
    "tags": []
   },
   "outputs": [
    {
     "name": "stdout",
     "output_type": "stream",
     "text": [
      "<class 'pandas.core.frame.DataFrame'>\n",
      "RangeIndex: 1038324 entries, 0 to 1038323\n",
      "Data columns (total 6 columns):\n",
      " #   Column      Non-Null Count    Dtype \n",
      "---  ------      --------------    ----- \n",
      " 0   folder      1038324 non-null  int64 \n",
      " 1   dialogueID  1038324 non-null  object\n",
      " 2   date        1038324 non-null  object\n",
      " 3   from        1038311 non-null  object\n",
      " 4   to          566035 non-null   object\n",
      " 5   text        1038237 non-null  object\n",
      "dtypes: int64(1), object(5)\n",
      "memory usage: 47.5+ MB\n"
     ]
    },
    {
     "data": {
      "text/html": [
       "<div>\n",
       "<style scoped>\n",
       "    .dataframe tbody tr th:only-of-type {\n",
       "        vertical-align: middle;\n",
       "    }\n",
       "\n",
       "    .dataframe tbody tr th {\n",
       "        vertical-align: top;\n",
       "    }\n",
       "\n",
       "    .dataframe thead th {\n",
       "        text-align: right;\n",
       "    }\n",
       "</style>\n",
       "<table border=\"1\" class=\"dataframe\">\n",
       "  <thead>\n",
       "    <tr style=\"text-align: right;\">\n",
       "      <th></th>\n",
       "      <th>folder</th>\n",
       "      <th>dialogueID</th>\n",
       "      <th>date</th>\n",
       "      <th>from</th>\n",
       "      <th>to</th>\n",
       "      <th>text</th>\n",
       "    </tr>\n",
       "  </thead>\n",
       "  <tbody>\n",
       "    <tr>\n",
       "      <th>0</th>\n",
       "      <td>3</td>\n",
       "      <td>126125.tsv</td>\n",
       "      <td>2008-04-23T14:55:00.000Z</td>\n",
       "      <td>bad_image</td>\n",
       "      <td>NaN</td>\n",
       "      <td>Hello folks, please help me a bit with the fol...</td>\n",
       "    </tr>\n",
       "    <tr>\n",
       "      <th>1</th>\n",
       "      <td>3</td>\n",
       "      <td>126125.tsv</td>\n",
       "      <td>2008-04-23T14:56:00.000Z</td>\n",
       "      <td>bad_image</td>\n",
       "      <td>NaN</td>\n",
       "      <td>Did I choose a bad channel? I ask because you ...</td>\n",
       "    </tr>\n",
       "    <tr>\n",
       "      <th>2</th>\n",
       "      <td>3</td>\n",
       "      <td>126125.tsv</td>\n",
       "      <td>2008-04-23T14:57:00.000Z</td>\n",
       "      <td>lordleemo</td>\n",
       "      <td>bad_image</td>\n",
       "      <td>the second sentence is better english   and we...</td>\n",
       "    </tr>\n",
       "    <tr>\n",
       "      <th>3</th>\n",
       "      <td>3</td>\n",
       "      <td>64545.tsv</td>\n",
       "      <td>2009-08-01T06:22:00.000Z</td>\n",
       "      <td>mechtech</td>\n",
       "      <td>NaN</td>\n",
       "      <td>Sock Puppe?t</td>\n",
       "    </tr>\n",
       "    <tr>\n",
       "      <th>4</th>\n",
       "      <td>3</td>\n",
       "      <td>64545.tsv</td>\n",
       "      <td>2009-08-01T06:22:00.000Z</td>\n",
       "      <td>mechtech</td>\n",
       "      <td>NaN</td>\n",
       "      <td>WTF?</td>\n",
       "    </tr>\n",
       "  </tbody>\n",
       "</table>\n",
       "</div>"
      ],
      "text/plain": [
       "   folder  dialogueID                      date       from         to  \\\n",
       "0       3  126125.tsv  2008-04-23T14:55:00.000Z  bad_image        NaN   \n",
       "1       3  126125.tsv  2008-04-23T14:56:00.000Z  bad_image        NaN   \n",
       "2       3  126125.tsv  2008-04-23T14:57:00.000Z  lordleemo  bad_image   \n",
       "3       3   64545.tsv  2009-08-01T06:22:00.000Z   mechtech        NaN   \n",
       "4       3   64545.tsv  2009-08-01T06:22:00.000Z   mechtech        NaN   \n",
       "\n",
       "                                                text  \n",
       "0  Hello folks, please help me a bit with the fol...  \n",
       "1  Did I choose a bad channel? I ask because you ...  \n",
       "2  the second sentence is better english   and we...  \n",
       "3                                       Sock Puppe?t  \n",
       "4                                               WTF?  "
      ]
     },
     "execution_count": 3,
     "metadata": {},
     "output_type": "execute_result"
    }
   ],
   "source": [
    "# dialogue text info\n",
    "dialogueText.info()\n",
    "dialogueText.describe()\n",
    "dialogueText.head()"
   ]
  },
  {
   "cell_type": "code",
   "execution_count": 4,
   "id": "efe9982b",
   "metadata": {
    "execution": {
     "iopub.execute_input": "2022-07-06T08:59:29.886649Z",
     "iopub.status.busy": "2022-07-06T08:59:29.886238Z",
     "iopub.status.idle": "2022-07-06T08:59:30.168297Z",
     "shell.execute_reply": "2022-07-06T08:59:30.167193Z"
    },
    "papermill": {
     "duration": 0.28872,
     "end_time": "2022-07-06T08:59:30.170986",
     "exception": false,
     "start_time": "2022-07-06T08:59:29.882266",
     "status": "completed"
    },
    "tags": []
   },
   "outputs": [
    {
     "name": "stdout",
     "output_type": "stream",
     "text": [
      "<class 'pandas.core.frame.DataFrame'>\n",
      "RangeIndex: 9212877 entries, 0 to 9212876\n",
      "Data columns (total 6 columns):\n",
      " #   Column      Dtype \n",
      "---  ------      ----- \n",
      " 0   folder      int64 \n",
      " 1   dialogueID  object\n",
      " 2   date        object\n",
      " 3   from        object\n",
      " 4   to          object\n",
      " 5   text        object\n",
      "dtypes: int64(1), object(5)\n",
      "memory usage: 421.7+ MB\n"
     ]
    },
    {
     "data": {
      "text/html": [
       "<div>\n",
       "<style scoped>\n",
       "    .dataframe tbody tr th:only-of-type {\n",
       "        vertical-align: middle;\n",
       "    }\n",
       "\n",
       "    .dataframe tbody tr th {\n",
       "        vertical-align: top;\n",
       "    }\n",
       "\n",
       "    .dataframe thead th {\n",
       "        text-align: right;\n",
       "    }\n",
       "</style>\n",
       "<table border=\"1\" class=\"dataframe\">\n",
       "  <thead>\n",
       "    <tr style=\"text-align: right;\">\n",
       "      <th></th>\n",
       "      <th>folder</th>\n",
       "      <th>dialogueID</th>\n",
       "      <th>date</th>\n",
       "      <th>from</th>\n",
       "      <th>to</th>\n",
       "      <th>text</th>\n",
       "    </tr>\n",
       "  </thead>\n",
       "  <tbody>\n",
       "    <tr>\n",
       "      <th>9212872</th>\n",
       "      <td>13</td>\n",
       "      <td>3676.tsv</td>\n",
       "      <td>2012-07-07T20:17:00.000Z</td>\n",
       "      <td>MonkeyDust</td>\n",
       "      <td>legolas</td>\n",
       "      <td>= arian</td>\n",
       "    </tr>\n",
       "    <tr>\n",
       "      <th>9212873</th>\n",
       "      <td>13</td>\n",
       "      <td>3676.tsv</td>\n",
       "      <td>2012-07-07T20:18:00.000Z</td>\n",
       "      <td>MonkeyDust</td>\n",
       "      <td>legolas</td>\n",
       "      <td>observation and deduction, dear watson</td>\n",
       "    </tr>\n",
       "    <tr>\n",
       "      <th>9212874</th>\n",
       "      <td>13</td>\n",
       "      <td>16586.tsv</td>\n",
       "      <td>2008-07-25T01:53:00.000Z</td>\n",
       "      <td>linuxfce</td>\n",
       "      <td>NaN</td>\n",
       "      <td>i am trying to install nvidia drivers from the...</td>\n",
       "    </tr>\n",
       "    <tr>\n",
       "      <th>9212875</th>\n",
       "      <td>13</td>\n",
       "      <td>16586.tsv</td>\n",
       "      <td>2008-07-25T01:53:00.000Z</td>\n",
       "      <td>linuxfce</td>\n",
       "      <td>NaN</td>\n",
       "      <td>how do i enter runlevel 3? when i try telinit ...</td>\n",
       "    </tr>\n",
       "    <tr>\n",
       "      <th>9212876</th>\n",
       "      <td>13</td>\n",
       "      <td>16586.tsv</td>\n",
       "      <td>2008-07-25T01:54:00.000Z</td>\n",
       "      <td>linuxfce</td>\n",
       "      <td>NaN</td>\n",
       "      <td>anyone know how to enter runlevel 3 in ubuntu?</td>\n",
       "    </tr>\n",
       "  </tbody>\n",
       "</table>\n",
       "</div>"
      ],
      "text/plain": [
       "         folder dialogueID                      date        from       to  \\\n",
       "9212872      13   3676.tsv  2012-07-07T20:17:00.000Z  MonkeyDust  legolas   \n",
       "9212873      13   3676.tsv  2012-07-07T20:18:00.000Z  MonkeyDust  legolas   \n",
       "9212874      13  16586.tsv  2008-07-25T01:53:00.000Z    linuxfce      NaN   \n",
       "9212875      13  16586.tsv  2008-07-25T01:53:00.000Z    linuxfce      NaN   \n",
       "9212876      13  16586.tsv  2008-07-25T01:54:00.000Z    linuxfce      NaN   \n",
       "\n",
       "                                                      text  \n",
       "9212872                                            = arian  \n",
       "9212873             observation and deduction, dear watson  \n",
       "9212874  i am trying to install nvidia drivers from the...  \n",
       "9212875  how do i enter runlevel 3? when i try telinit ...  \n",
       "9212876     anyone know how to enter runlevel 3 in ubuntu?  "
      ]
     },
     "execution_count": 4,
     "metadata": {},
     "output_type": "execute_result"
    }
   ],
   "source": [
    "# dialogue text info\n",
    "dialogueText_196.info()\n",
    "dialogueText_196.describe()\n",
    "dialogueText_196.tail()"
   ]
  },
  {
   "cell_type": "code",
   "execution_count": 5,
   "id": "5adbe983",
   "metadata": {
    "execution": {
     "iopub.execute_input": "2022-07-06T08:59:30.179869Z",
     "iopub.status.busy": "2022-07-06T08:59:30.179143Z",
     "iopub.status.idle": "2022-07-06T08:59:30.718149Z",
     "shell.execute_reply": "2022-07-06T08:59:30.717113Z"
    },
    "papermill": {
     "duration": 0.546652,
     "end_time": "2022-07-06T08:59:30.721039",
     "exception": false,
     "start_time": "2022-07-06T08:59:30.174387",
     "status": "completed"
    },
    "tags": []
   },
   "outputs": [
    {
     "name": "stdout",
     "output_type": "stream",
     "text": [
      "<class 'pandas.core.frame.DataFrame'>\n",
      "RangeIndex: 16587830 entries, 0 to 16587829\n",
      "Data columns (total 6 columns):\n",
      " #   Column      Dtype \n",
      "---  ------      ----- \n",
      " 0   folder      int64 \n",
      " 1   dialogueID  object\n",
      " 2   date        object\n",
      " 3   from        object\n",
      " 4   to          object\n",
      " 5   text        object\n",
      "dtypes: int64(1), object(5)\n",
      "memory usage: 759.3+ MB\n"
     ]
    },
    {
     "data": {
      "text/html": [
       "<div>\n",
       "<style scoped>\n",
       "    .dataframe tbody tr th:only-of-type {\n",
       "        vertical-align: middle;\n",
       "    }\n",
       "\n",
       "    .dataframe tbody tr th {\n",
       "        vertical-align: top;\n",
       "    }\n",
       "\n",
       "    .dataframe thead th {\n",
       "        text-align: right;\n",
       "    }\n",
       "</style>\n",
       "<table border=\"1\" class=\"dataframe\">\n",
       "  <thead>\n",
       "    <tr style=\"text-align: right;\">\n",
       "      <th></th>\n",
       "      <th>folder</th>\n",
       "      <th>dialogueID</th>\n",
       "      <th>date</th>\n",
       "      <th>from</th>\n",
       "      <th>to</th>\n",
       "      <th>text</th>\n",
       "    </tr>\n",
       "  </thead>\n",
       "  <tbody>\n",
       "    <tr>\n",
       "      <th>16587825</th>\n",
       "      <td>32</td>\n",
       "      <td>1783.tsv</td>\n",
       "      <td>2007-11-15T03:38:00.000Z</td>\n",
       "      <td>koyo001</td>\n",
       "      <td>NaN</td>\n",
       "      <td>thanks</td>\n",
       "    </tr>\n",
       "    <tr>\n",
       "      <th>16587826</th>\n",
       "      <td>32</td>\n",
       "      <td>1783.tsv</td>\n",
       "      <td>2007-11-15T03:39:00.000Z</td>\n",
       "      <td>koyo001</td>\n",
       "      <td>NaN</td>\n",
       "      <td>does anyone know something</td>\n",
       "    </tr>\n",
       "    <tr>\n",
       "      <th>16587827</th>\n",
       "      <td>32</td>\n",
       "      <td>1783.tsv</td>\n",
       "      <td>2007-11-15T03:39:00.000Z</td>\n",
       "      <td>neverblue</td>\n",
       "      <td>NaN</td>\n",
       "      <td>no, no one knows everything</td>\n",
       "    </tr>\n",
       "    <tr>\n",
       "      <th>16587828</th>\n",
       "      <td>32</td>\n",
       "      <td>1783.tsv</td>\n",
       "      <td>2007-11-15T03:40:00.000Z</td>\n",
       "      <td>koyo001</td>\n",
       "      <td>ikonia</td>\n",
       "      <td>the camera doesnt work</td>\n",
       "    </tr>\n",
       "    <tr>\n",
       "      <th>16587829</th>\n",
       "      <td>32</td>\n",
       "      <td>1783.tsv</td>\n",
       "      <td>2007-11-15T03:40:00.000Z</td>\n",
       "      <td>neverblue</td>\n",
       "      <td>koyo001</td>\n",
       "      <td>I believe you missed a post or two while you w...</td>\n",
       "    </tr>\n",
       "  </tbody>\n",
       "</table>\n",
       "</div>"
      ],
      "text/plain": [
       "          folder dialogueID                      date       from       to  \\\n",
       "16587825      32   1783.tsv  2007-11-15T03:38:00.000Z    koyo001      NaN   \n",
       "16587826      32   1783.tsv  2007-11-15T03:39:00.000Z    koyo001      NaN   \n",
       "16587827      32   1783.tsv  2007-11-15T03:39:00.000Z  neverblue      NaN   \n",
       "16587828      32   1783.tsv  2007-11-15T03:40:00.000Z    koyo001   ikonia   \n",
       "16587829      32   1783.tsv  2007-11-15T03:40:00.000Z  neverblue  koyo001   \n",
       "\n",
       "                                                       text  \n",
       "16587825                                             thanks  \n",
       "16587826                         does anyone know something  \n",
       "16587827                        no, no one knows everything  \n",
       "16587828                             the camera doesnt work  \n",
       "16587829  I believe you missed a post or two while you w...  "
      ]
     },
     "execution_count": 5,
     "metadata": {},
     "output_type": "execute_result"
    }
   ],
   "source": [
    "# dialogue text 301 info\n",
    "dialogueText_301.info()\n",
    "dialogueText_301.describe()\n",
    "dialogueText_301.tail()"
   ]
  },
  {
   "cell_type": "code",
   "execution_count": null,
   "id": "cbbddb88",
   "metadata": {
    "papermill": {
     "duration": 0.00354,
     "end_time": "2022-07-06T08:59:30.728426",
     "exception": false,
     "start_time": "2022-07-06T08:59:30.724886",
     "status": "completed"
    },
    "tags": []
   },
   "outputs": [],
   "source": []
  }
 ],
 "metadata": {
  "kernelspec": {
   "display_name": "Python 3",
   "language": "python",
   "name": "python3"
  },
  "language_info": {
   "codemirror_mode": {
    "name": "ipython",
    "version": 3
   },
   "file_extension": ".py",
   "mimetype": "text/x-python",
   "name": "python",
   "nbconvert_exporter": "python",
   "pygments_lexer": "ipython3",
   "version": "3.7.12"
  },
  "papermill": {
   "default_parameters": {},
   "duration": 113.328827,
   "end_time": "2022-07-06T08:59:33.354943",
   "environment_variables": {},
   "exception": null,
   "input_path": "__notebook__.ipynb",
   "output_path": "__notebook__.ipynb",
   "parameters": {},
   "start_time": "2022-07-06T08:57:40.026116",
   "version": "2.3.4"
  }
 },
 "nbformat": 4,
 "nbformat_minor": 5
}
